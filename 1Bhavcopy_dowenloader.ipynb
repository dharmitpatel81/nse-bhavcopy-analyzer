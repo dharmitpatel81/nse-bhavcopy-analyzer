{
 "cells": [
  {
   "cell_type": "code",
   "execution_count": 1,
   "id": "532717ef",
   "metadata": {},
   "outputs": [],
   "source": [
    "import pandas as pd\n",
    "from datetime import timedelta, datetime\n",
    "from tqdm import tqdm \n",
    "import requests"
   ]
  },
  {
   "cell_type": "code",
   "execution_count": 2,
   "id": "c60ade20",
   "metadata": {},
   "outputs": [],
   "source": [
    "# This function returns ath day before bhavcopy download urt\n",
    "def url(i):\n",
    "    return f'https://archives.nseindia.com/products/content/sec_bhavdata_full_{oldDate(i).strftime(\"%d%m%Y\")}.csv'\n",
    "def path(i):\n",
    "    return f'P:/DEPROJECT/Raw_bhav_copy/Raw_bhavcopy_{oldDate(i).strftime(\"%Y-%m-%d\")}.csv'\n",
    "\n",
    "def oldDate(n):\n",
    "    a = datetime.now() - timedelta(n)\n",
    "    return a"
   ]
  },
  {
   "cell_type": "code",
   "execution_count": 3,
   "id": "7d417875",
   "metadata": {},
   "outputs": [],
   "source": [
    "def rawdown():\n",
    "    for i in (range(0,40)):\n",
    "        try: \n",
    "            r = requests.get(url(i), timeout=2)\n",
    "            print(f\"Bhavcopy of {oldDate(i).strftime('%Y-%m-%d')} downloaded\")\n",
    "            df = pd.read_csv(url(i))\n",
    "            df.to_csv(path(i),index=False)\n",
    "        except requests.exceptions.Timeout as err: \n",
    "            pass"
   ]
  },
  {
   "cell_type": "code",
   "execution_count": 4,
   "id": "7e504285",
   "metadata": {},
   "outputs": [
    {
     "name": "stdout",
     "output_type": "stream",
     "text": [
      "Bhavcopy of 2022-05-15 downloaded\n",
      "Bhavcopy of 2022-05-13 downloaded\n",
      "Bhavcopy of 2022-05-12 downloaded\n",
      "Bhavcopy of 2022-05-11 downloaded\n",
      "Bhavcopy of 2022-05-10 downloaded\n",
      "Bhavcopy of 2022-05-09 downloaded\n",
      "Bhavcopy of 2022-05-08 downloaded\n",
      "Bhavcopy of 2022-05-06 downloaded\n",
      "Bhavcopy of 2022-05-05 downloaded\n",
      "Bhavcopy of 2022-05-04 downloaded\n",
      "Bhavcopy of 2022-05-03 downloaded\n",
      "Bhavcopy of 2022-05-02 downloaded\n",
      "Bhavcopy of 2022-05-01 downloaded\n",
      "Bhavcopy of 2022-04-29 downloaded\n",
      "Bhavcopy of 2022-04-28 downloaded\n",
      "Bhavcopy of 2022-04-27 downloaded\n",
      "Bhavcopy of 2022-04-26 downloaded\n",
      "Bhavcopy of 2022-04-25 downloaded\n",
      "Bhavcopy of 2022-04-24 downloaded\n",
      "Bhavcopy of 2022-04-22 downloaded\n",
      "Bhavcopy of 2022-04-21 downloaded\n",
      "Bhavcopy of 2022-04-20 downloaded\n",
      "Bhavcopy of 2022-04-19 downloaded\n",
      "Bhavcopy of 2022-04-18 downloaded\n",
      "Bhavcopy of 2022-04-17 downloaded\n",
      "Bhavcopy of 2022-04-15 downloaded\n",
      "Bhavcopy of 2022-04-14 downloaded\n",
      "Bhavcopy of 2022-04-13 downloaded\n",
      "Bhavcopy of 2022-04-12 downloaded\n",
      "Bhavcopy of 2022-04-11 downloaded\n",
      "Bhavcopy of 2022-04-10 downloaded\n",
      "Bhavcopy of 2022-04-08 downloaded\n",
      "Bhavcopy of 2022-04-07 downloaded\n"
     ]
    }
   ],
   "source": [
    "rawdown()"
   ]
  }
 ],
 "metadata": {
  "kernelspec": {
   "display_name": "Python 3 (ipykernel)",
   "language": "python",
   "name": "python3"
  },
  "language_info": {
   "codemirror_mode": {
    "name": "ipython",
    "version": 3
   },
   "file_extension": ".py",
   "mimetype": "text/x-python",
   "name": "python",
   "nbconvert_exporter": "python",
   "pygments_lexer": "ipython3",
   "version": "3.10.4"
  }
 },
 "nbformat": 4,
 "nbformat_minor": 5
}
