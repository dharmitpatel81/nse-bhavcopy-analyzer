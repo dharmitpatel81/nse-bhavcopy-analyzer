{
 "cells": [
  {
   "cell_type": "code",
   "execution_count": 1,
   "id": "532717ef",
   "metadata": {},
   "outputs": [],
   "source": [
    "import pandas as pd\n",
    "from datetime import timedelta, datetime\n",
    "from tqdm import tqdm \n",
    "import requests"
   ]
  },
  {
   "cell_type": "code",
   "execution_count": 2,
   "id": "1b7edced",
   "metadata": {},
   "outputs": [],
   "source": [
    "# This function returns with day before date\n",
    "def oldDate(n):\n",
    "    a = datetime.now() - timedelta(n)\n",
    "#     print(a)\n",
    "    return a"
   ]
  },
  {
   "cell_type": "code",
   "execution_count": 3,
   "id": "c60ade20",
   "metadata": {},
   "outputs": [],
   "source": [
    "# This function returns ath day before bhavcopy download urt\n",
    "def url(i):\n",
    "    \n",
    "    return f'https://archives.nseindia.com/products/content/sec_bhavdata_full_{oldDate(i).strftime(\"%d%m%Y\")}.csv'\n"
   ]
  },
  {
   "cell_type": "code",
   "execution_count": 4,
   "id": "cb98aac8",
   "metadata": {},
   "outputs": [],
   "source": [
    "def path(i):\n",
    "    \n",
    "    return f'P:/DEPROJECT/sepdowenloader/Raw_bhav_copy1/Raw_bhavcopy_{oldDate(i).strftime(\"%Y-%m-%d\")}.csv'\n"
   ]
  },
  {
   "cell_type": "code",
   "execution_count": 5,
   "id": "7d417875",
   "metadata": {},
   "outputs": [],
   "source": [
    "def rawdown():\n",
    "#     for i in (range(0,amount)):\n",
    "    for i in (range(0,10)):\n",
    "        try: \n",
    "            r = requests.get(url(i), timeout=2)\n",
    "            print(f\"Bhavcopy of {oldDate(i).strftime('%Y-%m-%d')} downloaded\")\n",
    "            df = pd.read_csv(url(i))\n",
    "            df.to_csv(path(i),index=False)\n",
    "        except requests.exceptions.Timeout as err: \n",
    "            pass"
   ]
  },
  {
   "cell_type": "code",
   "execution_count": 6,
   "id": "7e504285",
   "metadata": {},
   "outputs": [
    {
     "name": "stdout",
     "output_type": "stream",
     "text": [
      "Bhavcopy of 2022-04-01 downloaded\n",
      "Bhavcopy of 2022-03-31 downloaded\n",
      "Bhavcopy of 2022-03-30 downloaded\n",
      "Bhavcopy of 2022-03-29 downloaded\n",
      "Bhavcopy of 2022-03-28 downloaded\n",
      "Bhavcopy of 2022-03-27 downloaded\n"
     ]
    }
   ],
   "source": [
    "# amount = int(input(\"\"))\n",
    "# rawdown(amount)\n",
    "rawdown()"
   ]
  }
 ],
 "metadata": {
  "kernelspec": {
   "display_name": "Python 3 (ipykernel)",
   "language": "python",
   "name": "python3"
  },
  "language_info": {
   "codemirror_mode": {
    "name": "ipython",
    "version": 3
   },
   "file_extension": ".py",
   "mimetype": "text/x-python",
   "name": "python",
   "nbconvert_exporter": "python",
   "pygments_lexer": "ipython3",
   "version": "3.10.4"
  }
 },
 "nbformat": 4,
 "nbformat_minor": 5
}
